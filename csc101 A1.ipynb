{
  "nbformat": 4,
  "nbformat_minor": 0,
  "metadata": {
    "colab": {
      "provenance": [],
      "authorship_tag": "ABX9TyO7dmXnw6VhDy8Haca3lEWt",
      "include_colab_link": true
    },
    "kernelspec": {
      "name": "python3",
      "display_name": "Python 3"
    },
    "language_info": {
      "name": "python"
    }
  },
  "cells": [
    {
      "cell_type": "markdown",
      "metadata": {
        "id": "view-in-github",
        "colab_type": "text"
      },
      "source": [
        "<a href=\"https://colab.research.google.com/github/Mayantha21/CSC101-Introduction-to-Programing/blob/main/csc101%20A1.ipynb\" target=\"_parent\"><img src=\"https://colab.research.google.com/assets/colab-badge.svg\" alt=\"Open In Colab\"/></a>"
      ]
    },
    {
      "cell_type": "code",
      "source": [
        "# --- Imports ---\n",
        "import nltk\n",
        "import matplotlib.pyplot as plt\n",
        "from wordcloud import WordCloud\n",
        "from textblob import TextBlob\n",
        "import re\n",
        "\n",
        "# --- Function Definitions ---\n",
        "\n",
        "def get_text_input():\n",
        "    return input(\"Enter the text to analyze:\\n\")\n",
        "\n",
        "def clean_text(text):\n",
        "    # Remove special characters, digits, etc.\n",
        "    cleaned = re.sub(r'[^A-Za-z\\s]', '', text)\n",
        "    cleaned = cleaned.lower()\n",
        "    return cleaned\n",
        "\n",
        "def get_basic_stats(text):\n",
        "    words = text.split()\n",
        "    num_words = len(words)\n",
        "    num_chars = len(text)\n",
        "    avg_word_len = round(num_chars / num_words, 2) if num_words > 0 else 0\n",
        "    return {\n",
        "        \"word_count\": num_words,\n",
        "        \"character_count\": num_chars,\n",
        "        \"average_word_length\": avg_word_len\n",
        "    }\n",
        "\n",
        "def display_basic_stats(stats):\n",
        "    print(\"\\nBasic Text Statistics:\")\n",
        "    for k, v in stats.items():\n",
        "        print(f\"{k.replace('_', ' ').title()}: {v}\")\n",
        "\n",
        "# --- Main Execution Block ---\n",
        "if __name__ == \"__main__\":\n",
        "    raw_text = get_text_input()\n",
        "    cleaned = clean_text(raw_text)\n",
        "    stats = get_basic_stats(cleaned)\n",
        "    display_basic_stats(stats)\n"
      ],
      "metadata": {
        "colab": {
          "base_uri": "https://localhost:8080/"
        },
        "id": "fjilLqiuikGn",
        "outputId": "48466b41-2a66-4b6b-a519-04ab345a7740"
      },
      "execution_count": 1,
      "outputs": [
        {
          "output_type": "stream",
          "name": "stdout",
          "text": [
            "Enter the text to analyze:\n",
            "Artificial Intelligence (AI) is transforming the world around us. From voice assistants to self-driving cars, AI is embedded in our daily lives. It helps businesses improve efficiency and enables new innovations in healthcare, education, and finance. As technology advances, ethical concerns and regulations around AI development continue to grow. It is important to balance progress with responsibility.\n",
            "\n",
            "Basic Text Statistics:\n",
            "Word Count: 57\n",
            "Character Count: 392\n",
            "Average Word Length: 6.88\n"
          ]
        }
      ]
    },
    {
      "cell_type": "code",
      "execution_count": null,
      "metadata": {
        "id": "P8ER22uIie8T"
      },
      "outputs": [],
      "source": []
    }
  ]
}