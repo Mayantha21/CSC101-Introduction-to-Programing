{
  "nbformat": 4,
  "nbformat_minor": 0,
  "metadata": {
    "colab": {
      "provenance": [],
      "authorship_tag": "ABX9TyMecgFVD872St1ZMfP92AgI",
      "include_colab_link": true
    },
    "kernelspec": {
      "name": "python3",
      "display_name": "Python 3"
    },
    "language_info": {
      "name": "python"
    }
  },
  "cells": [
    {
      "cell_type": "markdown",
      "metadata": {
        "id": "view-in-github",
        "colab_type": "text"
      },
      "source": [
        "<a href=\"https://colab.research.google.com/github/Mayantha21/CSC101-Introduction-to-Programing/blob/main/Final_Exam.ipynb\" target=\"_parent\"><img src=\"https://colab.research.google.com/assets/colab-badge.svg\" alt=\"Open In Colab\"/></a>"
      ]
    },
    {
      "cell_type": "code",
      "execution_count": null,
      "metadata": {
        "colab": {
          "base_uri": "https://localhost:8080/"
        },
        "id": "b17Iwz360jer",
        "outputId": "9c132b50-7fde-4041-afc7-f53cf433d713"
      },
      "outputs": [
        {
          "output_type": "stream",
          "name": "stdout",
          "text": [
            "3.5\n",
            "Product not found\n",
            "Added 2 x Croissant to the order.\n",
            "Error: Product not found.\n",
            "Error: Quantity must be positive.\n",
            "[{'product': 'Croissant', 'qty': 2, 'price': 3.5}]\n",
            "\n",
            "Order Summary:\n",
            "2 x Croissant @ 3.5 = 7.0\n",
            "Grand Total: 7.0\n"
          ]
        }
      ],
      "source": [
        "def get_product_price(product_name):\n",
        "    prices = {\n",
        "        \"Croissant\": 3.50,\n",
        "        \"Muffin\": 2.75,\n",
        "        \"Scone\": 4.00\n",
        "    }\n",
        "    if product_name in prices:\n",
        "        return prices[product_name]\n",
        "    else:\n",
        "        return \"Product not found\"\n",
        "\n",
        "print(get_product_price(\"Croissant\"))\n",
        "print(get_product_price(\"Bagel\"))\n",
        "\n",
        "\n",
        "def add_order_item(order_list, product_name, quantity):\n",
        "    if quantity <= 0:\n",
        "        print(\"Error: Quantity must be positive.\")\n",
        "        return\n",
        "\n",
        "    price = get_product_price(product_name)\n",
        "    if price == \"Product not found\":\n",
        "        print(\"Error: Product not found.\")\n",
        "        return\n",
        "\n",
        "    item = {\n",
        "        \"product\": product_name,\n",
        "        \"qty\": quantity,\n",
        "        \"price\": price\n",
        "    }\n",
        "    order_list.append(item)\n",
        "    print(f\"Added {quantity} x {product_name} to the order.\")\n",
        "\n",
        "order = []\n",
        "add_order_item(order, \"Croissant\", 2)\n",
        "add_order_item(order, \"Bagel\", 1)\n",
        "add_order_item(order, \"Muffin\", -1)\n",
        "print(order)\n",
        "\n",
        "\n",
        "def calculate_order_total(order_list):\n",
        "    grand_total = 0.0\n",
        "    print(\"\\nOrder Summary:\")\n",
        "    for item in order_list:\n",
        "        subtotal = item[\"qty\"] * item[\"price\"]\n",
        "        grand_total += subtotal\n",
        "        print(f\"{item['qty']} x {item['product']} @ {item['price']} = {subtotal}\")\n",
        "    print(f\"Grand Total: {grand_total}\")\n",
        "\n",
        "calculate_order_total(order)"
      ]
    },
    {
      "cell_type": "code",
      "source": [
        "products = {}\n",
        "\n",
        "def add_item(item_name, quantity):\n",
        "    try:\n",
        "        quantity = int(quantity)\n",
        "        if quantity <= 0:\n",
        "            print(\"Quantity must be positive.\")\n",
        "            return\n",
        "        products[item_name] = quantity\n",
        "        print(f\"{item_name} added.\")\n",
        "    except:\n",
        "        print(\"Invalid quantity.\")\n",
        "\n",
        "def get_item_quantity(item_name):\n",
        "    if item_name in products:\n",
        "        return products[item_name]\n",
        "    return \"Item not found\"\n",
        "\n",
        "def update_quantity(item_name, new_quantity):\n",
        "    try:\n",
        "        new_quantity = int(new_quantity)\n",
        "        if item_name in products:\n",
        "            products[item_name] = new_quantity\n",
        "        else:\n",
        "            print(\"Item not found to update!\")\n",
        "    except:\n",
        "        print(\"Invalid quantity.\")\n",
        "\n",
        "def display_inventory():\n",
        "    print(\"Current Inventory:\")\n",
        "    for item, qty in products.items():\n",
        "        print(f\"- {item}: {qty} units\")\n",
        "\n",
        "add_item(\"Apples\", 100)\n",
        "add_item(\"Bananas\", 50)\n",
        "update_quantity(\"Apples\", 120)\n",
        "print(get_item_quantity(\"Oranges\"))\n",
        "add_item(\"Oranges\", \"ten\")\n",
        "update_quantity(\"Bananas\", \"abc\")\n",
        "display_inventory()"
      ],
      "metadata": {
        "colab": {
          "base_uri": "https://localhost:8080/"
        },
        "id": "l4nP4mqI23Hw",
        "outputId": "d37b6087-f479-4090-d92a-ed074cfcbc9b"
      },
      "execution_count": 2,
      "outputs": [
        {
          "output_type": "stream",
          "name": "stdout",
          "text": [
            "Apples added.\n",
            "Bananas added.\n",
            "Item not found\n",
            "Invalid quantity.\n",
            "Invalid quantity.\n",
            "Current Inventory:\n",
            "- Apples: 120 units\n",
            "- Bananas: 50 units\n"
          ]
        }
      ]
    }
  ]
}